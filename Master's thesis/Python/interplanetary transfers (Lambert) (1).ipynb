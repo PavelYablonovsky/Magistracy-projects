{
 "cells": [
  {
   "cell_type": "code",
   "execution_count": 22,
   "metadata": {
    "collapsed": true
   },
   "outputs": [],
   "source": [
    "import numpy as np\n",
    "import math\n",
    "import scipy\n",
    "from scipy.optimize import root, minimize\n",
    "\n",
    "import matplotlib.pyplot as plt\n",
    "from sympy import *\n",
    "init_printing()\n",
    "\n",
    "from sympy.plotting import plot3d_parametric_line\n",
    "\n",
    "from mpl_toolkits.mplot3d import Axes3D \n",
    "\n",
    "%matplotlib notebook\n",
    "\n",
    "from jplephem.spk import SPK\n",
    "from jdcal import gcal2jd, jd2gcal"
   ]
  },
  {
   "cell_type": "markdown",
   "metadata": {},
   "source": [
    "Блок программ для работы с эфемеридами:"
   ]
  },
  {
   "cell_type": "code",
   "execution_count": 23,
   "metadata": {
    "collapsed": true
   },
   "outputs": [],
   "source": [
    "def toJD(year, mont, day): #v julian\n",
    "    A = gcal2jd(year,mont,day)\n",
    "    A = A[0] + A[1]\n",
    "    return A\n",
    "\n",
    "def toCAL(JDate): #v nashi daty\n",
    "    A = JDate - 2400000.5\n",
    "    B = jd2gcal(2400000.5,A)\n",
    "    return B\n",
    "\n",
    "def Ephemeris(jd, targ, cent, UnitR, UnitV):\n",
    "    \n",
    "##_____EPHEM__________________________\n",
    "#kernel = SPK.open('de405.bsp')\n",
    "## print(kernel)\n",
    "#posMoon,  velMoon  = kernel[3,301].compute_and_differentiate(2459580.5)#todaydate \n",
    "#posEarth, velEarth = kernel[3,399].compute_and_differentiate(2459580.5)#todaydate \n",
    "#position = numpy.zeros(3)\n",
    "#velocity = numpy.zeros(3)\n",
    "#for i in range(3):\n",
    "#    position[i]= posMoon[i]-posEarth[i]\n",
    "#    velocity[i]=(velMoon[i]-velEarth[i])/86400\n",
    "#print(\"moon position = \", position, \"km\")\n",
    "#print(\"moon velosity = \", velocity, \"km/sec\")\n",
    "\n",
    "#Solar System Barycenter (0) -> Mercury Barycenter (1)\n",
    "#Solar System Barycenter (0) ->   Venus Barycenter (2)\n",
    "#Solar System Barycenter (0) ->   Earth Barycenter (3)\n",
    "#Solar System Barycenter (0) ->    Mars Barycenter (4)\n",
    "#Solar System Barycenter (0) -> Jupiter Barycenter (5)\n",
    "#Solar System Barycenter (0) ->  Saturn Barycenter (6)\n",
    "#Solar System Barycenter (0) ->  Uranus Barycenter (7)\n",
    "#Solar System Barycenter (0) -> Neptune Barycenter (8)\n",
    "#Solar System Barycenter (0) ->   Pluto Barycenter (9)\n",
    "#Solar System Barycenter (0) ->               Sun (10)\n",
    "#       Earth Barycenter (3) ->             Moon (301)\n",
    "#       Earth Barycenter (3) ->            Earth (399)\n",
    "\n",
    "#____________________________________   \n",
    "    \n",
    "    RV = np.zeros(6);    \n",
    "    kernel = SPK.open('de405.bsp');\n",
    "    \n",
    "    if  0 <= targ <= 11 and cent==0 or 300 < targ < 400 and cent==3:\n",
    "        posTarg, velTarg = kernel[cent,targ].compute_and_differentiate(jd); \n",
    "        \n",
    "        for i in range(3):\n",
    "            RV[i]   = posTarg[i]/UnitR;\n",
    "            RV[3+i] = velTarg[i]/86400/UnitV;   \n",
    "            \n",
    "        return RV;    \n",
    "    \n",
    "    if targ==301 or targ==399:\n",
    "        CENTR = 3;\n",
    "        posTarg, velTarg = kernel[CENTR,targ].compute_and_differentiate(jd); \n",
    "    elif 0 <= targ <= 11:\n",
    "        CENTR = 0;\n",
    "        posTarg, velTarg = kernel[CENTR,targ].compute_and_differentiate(jd); \n",
    "\n",
    "    if cent==301 or cent==399:\n",
    "        CENTR = 3;\n",
    "        posCent, velCent = kernel[CENTR,cent].compute_and_differentiate(jd); \n",
    "    elif 0 <= cent <= 11:\n",
    "        CENTR = 0;\n",
    "        posCent, velCent = kernel[CENTR,cent].compute_and_differentiate(jd); \n",
    "\n",
    "    if  0 <= targ <= 11 and 300 < cent < 400 or 300 < targ < 400 and 0 <= cent <= 11:\n",
    "        posCENTR, velCENTR = kernel[0,3].compute_and_differentiate(jd); \n",
    "        if 0 <= targ <= 11:\n",
    "            for i in range(3):\n",
    "                RV[i]   = (posTarg[i]-posCent[i]-posCENTR[i])/UnitR;\n",
    "                RV[3+i] = (velTarg[i]-velCent[i]-velCENTR[i])/86400/UnitV; \n",
    "        elif 0 <= cent <= 11:\n",
    "            for i in range(3):\n",
    "                RV[i]   = (posTarg[i]+posCENTR[i]-posCent[i])/UnitR;\n",
    "                RV[3+i] = (velTarg[i]+velCENTR[i]-velCent[i])/86400/UnitV;  \n",
    "                \n",
    "    else:\n",
    "        for i in range(3):\n",
    "            RV[i]   = (posTarg[i]-posCent[i])/UnitR;\n",
    "            RV[3+i] = (velTarg[i]-velCent[i])/86400/UnitV;         \n",
    "            \n",
    "    return RV"
   ]
  },
  {
   "cell_type": "markdown",
   "metadata": {},
   "source": [
    "Блок программ для решения задачи Ламберта:"
   ]
  },
  {
   "cell_type": "code",
   "execution_count": 24,
   "metadata": {
    "collapsed": true
   },
   "outputs": [],
   "source": [
    "def Cn(n,x):\n",
    "    \n",
    "    absx = np.abs(x)\n",
    "    sqrtx = sqrt(absx)\n",
    "#    print(x, absx)    \n",
    "    if absx < 1.e-8:\n",
    "        nf=math.factorial(n)\n",
    "        cn=( 1.0+x/((n+1.0)*(n+2.0))*(-1.0 + x/((n+3.0)*(n+4.0))) )/nf\n",
    "    else:\n",
    "        if x > 0:\n",
    "            if   n==0: cn = cos(sqrtx)\n",
    "            elif n==1: cn = sin(sqrtx)/sqrtx\n",
    "            elif n==2: cn = (1-cos(sqrtx))/x\n",
    "            elif n==3: cn = (sqrtx-sin(sqrtx))/(x*sqrtx)         \n",
    "        else:\n",
    "            if   n==0: cn = cosh(sqrtx)\n",
    "            elif n==1: cn = sinh(sqrtx)/sqrtx\n",
    "            elif n==2: cn = (cosh(sqrtx)-1)/absx\n",
    "            elif n==3: cn = (sinh(sqrtx)-sqrtx)/(absx*sqrtx) \n",
    "            \n",
    "    return cn \n",
    "\n",
    "def U(x,ro):\n",
    "    cn1x = Cn(1,x)\n",
    "    cn2x = Cn(2,x)\n",
    "    u = sqrt(1.0-ro*cn1x/sqrt(cn2x))\n",
    "    return u\n",
    "\n",
    "def F(x,ro):\n",
    "    uxro=U(x,ro)\n",
    "    cn2x = Cn(2,x)\n",
    "    cn3x = Cn(3,x)    \n",
    "    F = (uxro**2*cn3x/sqrt(cn2x)**3 + ro)*uxro\n",
    "    return F\n",
    "    \n",
    "def Fsol(x,ro,SIG):\n",
    "#    print(F(x,ro))\n",
    "    return F(x,ro)-SIG\n",
    "\n",
    "#def FsolX(x,ro):\n",
    "    \n",
    "    \n",
    "def Lambert (R0,R1,dt):\n",
    "    \n",
    "    r0=sqrt(R0[0]**2+R0[1]**2+R0[2]**2)\n",
    "    r1=sqrt(R1[0]**2+R1[1]**2+R1[2]**2)\n",
    "    \n",
    "    R0R1 = np.zeros(3)\n",
    "    \n",
    "    r0r1 = R0[0]*R1[0]+R0[1]*R1[1]+R0[2]*R1[2]  # скалярное произведение\n",
    "    R0R1[0] = R0[1]*R1[2] - R0[2]*R1[1]         # векторное произведение\n",
    "    R0R1[1] = R0[2]*R1[0] - R0[0]*R1[2]\n",
    "    R0R1[2] = R0[0]*R1[1] - R0[1]*R1[0]\n",
    "            \n",
    "    fi=acos(r0r1/(r0*r1))\n",
    "    \n",
    "    if R0R1[2]<0:\n",
    "        fi=2*np.pi-fi\n",
    "        \n",
    "    ro=sqrt(2.0*r0*r1)/(r0+r1)*cos(fi/2)\n",
    "    SIG=dt/sqrt(r0+r1)**3\n",
    "    SIGpar=1.0/3.0*(sqrt(2.0)+ro)*sqrt(1.0-sqrt(2.0)*ro)\n",
    "     \n",
    "    if SIG<SIGpar:        \n",
    "        x0=0.0     \n",
    "    else: \n",
    "        absro=abs(ro)\n",
    "        um=sqrt(1.0-sqrt(2.0)*absro)\n",
    "        eps0=(np.pi/(2.0/3.0*um**3 + SIG - ro*um))**(1.0/3.0)*um\n",
    "        x0=4.0*(np.pi-eps0)**2\n",
    "    \n",
    "    xsol=scipy.optimize.root(Fsol, x0, args=(ro,SIG),method='krylov',tol=1.e-5)\n",
    "    \n",
    "    cn1x = Cn(1,xsol.x)\n",
    "    cn2x = Cn(2,xsol.x)\n",
    "    cn3x = Cn(3,xsol.x)\n",
    "    uxro = U(xsol.x,ro)\n",
    "        \n",
    "    S=sqrt((r0+r1)/cn2x)*uxro;\n",
    "        \n",
    "    f=1-S**2*cn2x/r0;\n",
    "    g=dt-S**3*cn3x;\n",
    "    \n",
    "    df=-S*cn1x/(r0*r1);\n",
    "    dg=1-S**2*cn2x/r1;\n",
    "    \n",
    "    V0 = np.zeros(3)\n",
    "    V1 = np.zeros(3)\n",
    "    \n",
    "    for i in range (3):\n",
    "        V0[i]=1./g*(R1[i]-f*R0[i])\n",
    "        V1[i]=df*R0[i]+dg*V0[i]      \n",
    "    \n",
    "    return V0,V1,fi"
   ]
  },
  {
   "cell_type": "code",
   "execution_count": 25,
   "metadata": {
    "collapsed": true
   },
   "outputs": [],
   "source": [
    "def Transfer(n0, nk, t0, dt, UnitR=1.0, UnitV=1.0, UnitT=1.0):\n",
    "    \n",
    "    Vinf0 = np.zeros(3)\n",
    "    Vinfk = np.zeros(3)\n",
    "    vinf = np.zeros(3)\n",
    "    \n",
    "    RV0 = Ephemeris(t0, 10, n0, 1, 1)\n",
    "    RVk = Ephemeris(t0+dt, 10, nk, 1, 1)\n",
    "       \n",
    "    V0, Vk, fi = Lambert (RV0[0:3]/UnitR,RVk[0:3]/UnitR,dt/UnitT); # UnitV\n",
    "\n",
    "    V0 = V0*UnitV\n",
    "    Vk = Vk*UnitV\n",
    "    \n",
    "    Vinf0[0:3] = V0[0:3] - RV0[3:6]\n",
    "    Vinfk[0:3] = Vk[0:3] - RVk[3:6]\n",
    "    \n",
    "    vinf[0] = sqrt(Vinf0[0]*Vinf0[0]+Vinf0[1]*Vinf0[1]+Vinf0[2]*Vinf0[2])\n",
    "    vinf[1] = sqrt(Vinfk[0]*Vinfk[0]+Vinfk[1]*Vinfk[1]+Vinfk[2]*Vinfk[2])\n",
    "    \n",
    "    vinf[2] = vinf[0]+vinf[1]\n",
    "    \n",
    "    return vinf, Vinf0, Vinfk, V0, Vk, fi"
   ]
  },
  {
   "cell_type": "code",
   "execution_count": 26,
   "metadata": {
    "collapsed": true
   },
   "outputs": [],
   "source": [
    "def Windows(n0, nk, DT0, DT, N, M, UnitR=1.0, UnitV=1.0, UnitT=1.0):\n",
    "    \n",
    "    Vinf0 = np.zeros((N,M,3))\n",
    "    Vinfk = np.zeros((N,M,3))\n",
    "    vinf = np.zeros((N,M,3))\n",
    "    V0 = np.zeros((N,M,3))\n",
    "    Vk = np.zeros((N,M,3))\n",
    "    fi = np.zeros((N,M))  \n",
    "    \n",
    "    for i in range(N):\n",
    "        for j in range(M):\n",
    "            vinf[i,j,0:3], Vinf0[i,j,0:3], Vinfk[i,j,0:3], V0[i,j,0:3], Vk[i,j,0:3], fi[i,j] = Transfer(n0, nk, DT0[i], DT[j], UnitR, UnitV, UnitT)\n",
    "    \n",
    "    return vinf, Vinf0, Vinfk, V0, Vk, fi"
   ]
  },
  {
   "cell_type": "code",
   "execution_count": 27,
   "metadata": {
    "collapsed": true
   },
   "outputs": [],
   "source": [
    "def Fun(x, n0, n1, UnitR, UnitV, UnitT):\n",
    "    vinf, Vinf0, Vinfk, V0, Vk, fi = Transfer(n0, n1, x[0], x[1], UnitR, UnitV, UnitT)\n",
    "    return vinf[2]"
   ]
  },
  {
   "cell_type": "code",
   "execution_count": 33,
   "metadata": {},
   "outputs": [
    {
     "name": "stdout",
     "output_type": "stream",
     "text": [
      "\n",
      " Координаты планеты отправления:\n",
      "\n",
      "[ -5.95964567e+07  -1.23871650e+08  -5.36980221e+07] km\n",
      "[ 27.73804531 -10.933762    -4.73984288] km/s\n",
      "\n",
      " Координаты планеты отправления:\n",
      "\n",
      "[ -1.90333030e+08   7.10956316e+07   3.77455507e+07] km\n",
      "[-10.33850353 -22.28158478  -9.94104223] km/s\n",
      "\n",
      " Отлётная и подлётная скорость:\n",
      "\n",
      "[30.7367397023052 -2.38844755886755 -2.01889175948767] km/s\n",
      "[-9.19394573128306 -17.3175633195277 -7.48052178610884] km/s\n",
      "\n",
      " Гиперболический избыток скорости:\n",
      "\n",
      "[2.99869439553171 8.54531443860955 2.72095112026209] km/s\n",
      "[1.14455780083865 4.96402146225049 2.46052044053739] km/s\n",
      "\n",
      " Лучший вариант лететь  (2020, 7, 26, 0.9102683062665164) с продолжительностью 349.784 дней\n"
     ]
    }
   ],
   "source": [
    "# константы\n",
    "\n",
    "AU     = 1.49597870691e8;  # km\n",
    "fM_Sun = 1.32712440018e11; # km^3/sec^2\n",
    "\n",
    "UnitR = AU;                  # km\n",
    "UnitV = sqrt(fM_Sun/UnitR);  # km/sec\n",
    "UnitT = (UnitR/UnitV)/86400; # day  \n",
    "\n",
    "# исходные данные\n",
    "\n",
    "dT = 250 # day\n",
    "\n",
    "# Дата отлёта:\n",
    "\n",
    "jd0 = toJD(2019, 11, 29)\n",
    "\n",
    "#Положение планет:\n",
    "\n",
    "RV0 = Ephemeris(jd0, 10, 3, 1, 1)\n",
    "print('\\n Координаты планеты отправления:\\n')\n",
    "print(RV0[0:3], 'km')\n",
    "print(RV0[3:6], 'km/s')\n",
    "\n",
    "RVk = Ephemeris(jd0+dT, 10, 4, 1, 1)\n",
    "print('\\n Координаты планеты отправления:\\n')\n",
    "print(RVk[0:3], 'km')\n",
    "print(RVk[3:6], 'km/s')\n",
    "\n",
    "# результаты расчёта\n",
    "\n",
    "V0, Vk, fi = Lambert (RV0[0:3]/UnitR,RVk[0:3]/UnitR,dT/UnitT); # UnitV\n",
    "print('\\n Отлётная и подлётная скорость:\\n')\n",
    "print(V0[0:3]*UnitV, 'km/s')\n",
    "print(Vk[0:3]*UnitV, 'km/s')\n",
    "print('\\n Гиперболический избыток скорости:\\n')\n",
    "print(V0[0:3]*UnitV-RV0[3:9], 'km/s')\n",
    "print(Vk[0:3]*UnitV-RVk[3:9], 'km/s')\n",
    "\n",
    "vinf, Vinf0, Vinfk, V0, Vk, fi = Transfer(3, 4, jd0, dT, UnitR, UnitV, UnitT)\n",
    "\n",
    "res = minimize(Fun, [jd0, dT], args=(3, 4, UnitR, UnitV, UnitT), method='COBYLA', tol=1.e-6)\n",
    "\n",
    "print('\\n Лучший вариант лететь ', toCAL(res.x[0]), ('с продолжительностью %6.3f дней' %res.x[1])) \n",
    "\n",
    "N,M = 100, 100\n",
    "JD0 = np.linspace(jd0,jd0+1000,N)\n",
    "DT = np.linspace(150,300,M)\n",
    "#VINF, VINF0, VINFk, VV0, VVk, FI = Windows(3, 4, JD0, DT, N, M, UnitR, UnitV, UnitT)"
   ]
  },
  {
   "cell_type": "markdown",
   "metadata": {},
   "source": [
    "Д.З.:\n",
    "\n",
    "1. Построить изолинии vinf от jd0 и dt\n",
    "2. Определить минимум на них\n",
    "3. Добавить околопланетные участки, посчитать импульсы скорости и затраты топлива"
   ]
  },
  {
   "cell_type": "code",
   "execution_count": 34,
   "metadata": {},
   "outputs": [
    {
     "data": {
      "text/plain": [
       "     fun: 7.4977275489424464\n",
       "   maxcv: 0.0\n",
       " message: 'Optimization terminated successfully.'\n",
       "    nfev: 519\n",
       "  status: 1\n",
       " success: True\n",
       "       x: array([  2.45905741e+06,   3.49784448e+02])"
      ]
     },
     "execution_count": 34,
     "metadata": {},
     "output_type": "execute_result"
    }
   ],
   "source": [
    "res"
   ]
  },
  {
   "cell_type": "code",
   "execution_count": 35,
   "metadata": {},
   "outputs": [
    {
     "data": {
      "image/png": "[encoded data removed]",
      "text/latex": [
       "$$15.113473133$$"
      ],
      "text/plain": [
       "15.113473133"
      ]
     },
     "execution_count": 35,
     "metadata": {},
     "output_type": "execute_result"
    }
   ],
   "source": [
    "vinf[2]"
   ]
  },
  {
   "cell_type": "code",
   "execution_count": null,
   "metadata": {
    "collapsed": true
   },
   "outputs": [],
   "source": []
  }
 ],
 "metadata": {
  "kernelspec": {
   "display_name": "Python 3",
   "language": "python",
   "name": "python3"
  },
  "language_info": {
   "codemirror_mode": {
    "name": "ipython",
    "version": 3
   },
   "file_extension": ".py",
   "mimetype": "text/x-python",
   "name": "python",
   "nbconvert_exporter": "python",
   "pygments_lexer": "ipython3",
   "version": "3.7.5"
  }
 },
 "nbformat": 4,
 "nbformat_minor": 2
}
