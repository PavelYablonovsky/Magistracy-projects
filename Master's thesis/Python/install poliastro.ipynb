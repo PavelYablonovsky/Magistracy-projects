{
 "cells": [
  {
   "cell_type": "code",
   "execution_count": 1,
   "metadata": {},
   "outputs": [
    {
     "name": "stdout",
     "output_type": "stream",
     "text": [
      "Collecting poliastro\n",
      "  Downloading poliastro-0.14.0-py3-none-any.whl (142 kB)\n",
      "Requirement already satisfied: scipy>=1.4.0 in d:\\anaconda3\\lib\\site-packages (from poliastro) (1.5.2)\n",
      "Requirement already satisfied: matplotlib!=3.0.1,>=2.0 in d:\\anaconda3\\lib\\site-packages (from poliastro) (3.3.2)\n",
      "Collecting plotly~=4.0\n",
      "  Downloading plotly-4.14.3-py2.py3-none-any.whl (13.2 MB)\n",
      "Requirement already satisfied: numba!=0.49.0,>=0.46; implementation_name == \"cpython\" in d:\\anaconda3\\lib\\site-packages (from poliastro) (0.51.2)\n",
      "Collecting astroquery>=0.3.9\n",
      "  Downloading astroquery-0.4.1.tar.gz (6.5 MB)\n",
      "Requirement already satisfied: numpy in d:\\anaconda3\\lib\\site-packages (from poliastro) (1.19.2)\n",
      "Requirement already satisfied: astropy<5,>=3.2 in d:\\anaconda3\\lib\\site-packages (from poliastro) (4.0.2)\n",
      "Collecting jplephem\n",
      "  Downloading jplephem-2.15.tar.gz (40 kB)\n",
      "Requirement already satisfied: pandas in d:\\anaconda3\\lib\\site-packages (from poliastro) (1.1.3)\n",
      "Requirement already satisfied: certifi>=2020.06.20 in d:\\anaconda3\\lib\\site-packages (from matplotlib!=3.0.1,>=2.0->poliastro) (2020.6.20)\n",
      "Requirement already satisfied: kiwisolver>=1.0.1 in d:\\anaconda3\\lib\\site-packages (from matplotlib!=3.0.1,>=2.0->poliastro) (1.3.0)\n",
      "Requirement already satisfied: pillow>=6.2.0 in d:\\anaconda3\\lib\\site-packages (from matplotlib!=3.0.1,>=2.0->poliastro) (8.0.1)\n",
      "Requirement already satisfied: python-dateutil>=2.1 in d:\\anaconda3\\lib\\site-packages (from matplotlib!=3.0.1,>=2.0->poliastro) (2.8.1)\n",
      "Requirement already satisfied: pyparsing!=2.0.4,!=2.1.2,!=2.1.6,>=2.0.3 in d:\\anaconda3\\lib\\site-packages (from matplotlib!=3.0.1,>=2.0->poliastro) (2.4.7)\n",
      "Requirement already satisfied: cycler>=0.10 in d:\\anaconda3\\lib\\site-packages (from matplotlib!=3.0.1,>=2.0->poliastro) (0.10.0)\n",
      "Requirement already satisfied: six in d:\\anaconda3\\lib\\site-packages (from plotly~=4.0->poliastro) (1.15.0)\n",
      "Collecting retrying>=1.3.3\n",
      "  Downloading retrying-1.3.3.tar.gz (10 kB)\n",
      "Requirement already satisfied: llvmlite<0.35,>=0.34.0.dev0 in d:\\anaconda3\\lib\\site-packages (from numba!=0.49.0,>=0.46; implementation_name == \"cpython\"->poliastro) (0.34.0)\n",
      "Requirement already satisfied: setuptools in d:\\anaconda3\\lib\\site-packages (from numba!=0.49.0,>=0.46; implementation_name == \"cpython\"->poliastro) (50.3.1.post20201107)\n",
      "Requirement already satisfied: requests>=2.4.3 in d:\\anaconda3\\lib\\site-packages (from astroquery>=0.3.9->poliastro) (2.24.0)\n",
      "Requirement already satisfied: keyring>=4.0 in d:\\anaconda3\\lib\\site-packages (from astroquery>=0.3.9->poliastro) (21.4.0)\n",
      "Requirement already satisfied: beautifulsoup4>=4.3.2 in d:\\anaconda3\\lib\\site-packages (from astroquery>=0.3.9->poliastro) (4.9.3)\n",
      "Requirement already satisfied: html5lib>=0.999 in d:\\anaconda3\\lib\\site-packages (from astroquery>=0.3.9->poliastro) (1.1)\n",
      "Requirement already satisfied: pytz>=2017.2 in d:\\anaconda3\\lib\\site-packages (from pandas->poliastro) (2020.1)\n",
      "Requirement already satisfied: chardet<4,>=3.0.2 in d:\\anaconda3\\lib\\site-packages (from requests>=2.4.3->astroquery>=0.3.9->poliastro) (3.0.4)\n",
      "Requirement already satisfied: urllib3!=1.25.0,!=1.25.1,<1.26,>=1.21.1 in d:\\anaconda3\\lib\\site-packages (from requests>=2.4.3->astroquery>=0.3.9->poliastro) (1.25.11)\n",
      "Requirement already satisfied: idna<3,>=2.5 in d:\\anaconda3\\lib\\site-packages (from requests>=2.4.3->astroquery>=0.3.9->poliastro) (2.10)\n",
      "Requirement already satisfied: pywin32-ctypes!=0.1.0,!=0.1.1; sys_platform == \"win32\" in d:\\anaconda3\\lib\\site-packages (from keyring>=4.0->astroquery>=0.3.9->poliastro) (0.2.0)\n",
      "Requirement already satisfied: soupsieve>1.2; python_version >= \"3.0\" in d:\\anaconda3\\lib\\site-packages (from beautifulsoup4>=4.3.2->astroquery>=0.3.9->poliastro) (2.0.1)\n",
      "Requirement already satisfied: webencodings in d:\\anaconda3\\lib\\site-packages (from html5lib>=0.999->astroquery>=0.3.9->poliastro) (0.5.1)\n",
      "Building wheels for collected packages: astroquery, jplephem, retrying\n",
      "  Building wheel for astroquery (setup.py): started\n",
      "  Building wheel for astroquery (setup.py): finished with status 'done'\n",
      "  Created wheel for astroquery: filename=astroquery-0.4.1-py3-none-any.whl size=3831877 sha256=df3b55d6e500be812a1b4ff22415255faea39ca3ed6283d1c45a6a13f280da39\n",
      "  Stored in directory: c:\\users\\павел яблоновский\\appdata\\local\\pip\\cache\\wheels\\38\\a3\\2c\\65f38691eef2c25e74f1ab45186b67e09cea7b59696fd67696\n",
      "  Building wheel for jplephem (setup.py): started\n",
      "  Building wheel for jplephem (setup.py): finished with status 'done'\n",
      "  Created wheel for jplephem: filename=jplephem-2.15-py3-none-any.whl size=46021 sha256=62010ace9aa5ae78709276a5cee3fec81f55b2bba192205112b2d04459198209\n",
      "  Stored in directory: c:\\users\\павел яблоновский\\appdata\\local\\pip\\cache\\wheels\\e8\\73\\f7\\561e2b3f7e90f3b7d0beb8fa3487039076b166f25b61eacdc3\n",
      "  Building wheel for retrying (setup.py): started\n",
      "  Building wheel for retrying (setup.py): finished with status 'done'\n",
      "  Created wheel for retrying: filename=retrying-1.3.3-py3-none-any.whl size=11434 sha256=65fe155eef4b2f341692255145aa5c3619725eee8fd9cd563105956e518b60c1\n",
      "  Stored in directory: c:\\users\\павел яблоновский\\appdata\\local\\pip\\cache\\wheels\\c4\\a7\\48\\0a434133f6d56e878ca511c0e6c38326907c0792f67b476e56\n",
      "Successfully built astroquery jplephem retrying\n",
      "Installing collected packages: retrying, plotly, astroquery, jplephem, poliastro\n",
      "Successfully installed astroquery-0.4.1 jplephem-2.15 plotly-4.14.3 poliastro-0.14.0 retrying-1.3.3\n"
     ]
    }
   ],
   "source": [
    "import sys\n",
    "!{sys.executable} -m pip install poliastro"
   ]
  },
  {
   "cell_type": "code",
   "execution_count": 2,
   "metadata": {},
   "outputs": [
    {
     "name": "stdout",
     "output_type": "stream",
     "text": [
      "Requirement already up-to-date: poliastro in d:\\anaconda3\\lib\\site-packages (0.15.0)\n",
      "Requirement already satisfied, skipping upgrade: jplephem in d:\\anaconda3\\lib\\site-packages (from poliastro) (2.15)\n",
      "Requirement already satisfied, skipping upgrade: numpy in d:\\anaconda3\\lib\\site-packages (from poliastro) (1.19.2)\n",
      "Requirement already satisfied, skipping upgrade: astropy<5,>=3.2 in d:\\anaconda3\\lib\\site-packages (from poliastro) (4.0.2)\n",
      "Requirement already satisfied, skipping upgrade: pandas in d:\\anaconda3\\lib\\site-packages (from poliastro) (1.1.3)\n",
      "Requirement already satisfied, skipping upgrade: astroquery>=0.3.9 in d:\\anaconda3\\lib\\site-packages (from poliastro) (0.4.1)\n",
      "Requirement already satisfied, skipping upgrade: numba>=0.46; python_version < \"3.9\" in d:\\anaconda3\\lib\\site-packages (from poliastro) (0.51.2)\n",
      "Requirement already satisfied, skipping upgrade: matplotlib!=3.0.1,>=2.0 in d:\\anaconda3\\lib\\site-packages (from poliastro) (3.3.2)\n",
      "Requirement already satisfied, skipping upgrade: scipy>=1.4.0 in d:\\anaconda3\\lib\\site-packages (from poliastro) (1.5.2)\n",
      "Requirement already satisfied, skipping upgrade: pyerfa in d:\\anaconda3\\lib\\site-packages (from poliastro) (2.0.0)\n",
      "Requirement already satisfied, skipping upgrade: plotly~=4.0 in d:\\anaconda3\\lib\\site-packages (from poliastro) (4.14.3)\n",
      "Requirement already satisfied, skipping upgrade: python-dateutil>=2.7.3 in d:\\anaconda3\\lib\\site-packages (from pandas->poliastro) (2.8.1)\n",
      "Requirement already satisfied, skipping upgrade: pytz>=2017.2 in d:\\anaconda3\\lib\\site-packages (from pandas->poliastro) (2020.1)\n",
      "Requirement already satisfied, skipping upgrade: requests>=2.4.3 in d:\\anaconda3\\lib\\site-packages (from astroquery>=0.3.9->poliastro) (2.24.0)\n",
      "Note: you may need to restart the kernel to use updated packages.\n",
      "Requirement already satisfied, skipping upgrade: html5lib>=0.999 in d:\\anaconda3\\lib\\site-packages (from astroquery>=0.3.9->poliastro) (1.1)\n",
      "Requirement already satisfied, skipping upgrade: six in d:\\anaconda3\\lib\\site-packages (from astroquery>=0.3.9->poliastro) (1.15.0)\n",
      "Requirement already satisfied, skipping upgrade: keyring>=4.0 in d:\\anaconda3\\lib\\site-packages (from astroquery>=0.3.9->poliastro) (21.4.0)\n",
      "Requirement already satisfied, skipping upgrade: beautifulsoup4>=4.3.2 in d:\\anaconda3\\lib\\site-packages (from astroquery>=0.3.9->poliastro) (4.9.3)\n",
      "Requirement already satisfied, skipping upgrade: llvmlite<0.35,>=0.34.0.dev0 in d:\\anaconda3\\lib\\site-packages (from numba>=0.46; python_version < \"3.9\"->poliastro) (0.34.0)\n",
      "Requirement already satisfied, skipping upgrade: setuptools in d:\\anaconda3\\lib\\site-packages (from numba>=0.46; python_version < \"3.9\"->poliastro) (50.3.1.post20201107)\n",
      "Requirement already satisfied, skipping upgrade: certifi>=2020.06.20 in d:\\anaconda3\\lib\\site-packages (from matplotlib!=3.0.1,>=2.0->poliastro) (2020.6.20)\n",
      "Requirement already satisfied, skipping upgrade: kiwisolver>=1.0.1 in d:\\anaconda3\\lib\\site-packages (from matplotlib!=3.0.1,>=2.0->poliastro) (1.3.0)\n",
      "Requirement already satisfied, skipping upgrade: pillow>=6.2.0 in d:\\anaconda3\\lib\\site-packages (from matplotlib!=3.0.1,>=2.0->poliastro) (8.0.1)\n",
      "Requirement already satisfied, skipping upgrade: pyparsing!=2.0.4,!=2.1.2,!=2.1.6,>=2.0.3 in d:\\anaconda3\\lib\\site-packages (from matplotlib!=3.0.1,>=2.0->poliastro) (2.4.7)\n",
      "Requirement already satisfied, skipping upgrade: cycler>=0.10 in d:\\anaconda3\\lib\\site-packages (from matplotlib!=3.0.1,>=2.0->poliastro) (0.10.0)\n",
      "Requirement already satisfied, skipping upgrade: retrying>=1.3.3 in d:\\anaconda3\\lib\\site-packages (from plotly~=4.0->poliastro) (1.3.3)\n",
      "Requirement already satisfied, skipping upgrade: urllib3!=1.25.0,!=1.25.1,<1.26,>=1.21.1 in d:\\anaconda3\\lib\\site-packages (from requests>=2.4.3->astroquery>=0.3.9->poliastro) (1.25.11)\n",
      "Requirement already satisfied, skipping upgrade: idna<3,>=2.5 in d:\\anaconda3\\lib\\site-packages (from requests>=2.4.3->astroquery>=0.3.9->poliastro) (2.10)\n",
      "Requirement already satisfied, skipping upgrade: chardet<4,>=3.0.2 in d:\\anaconda3\\lib\\site-packages (from requests>=2.4.3->astroquery>=0.3.9->poliastro) (3.0.4)\n",
      "Requirement already satisfied, skipping upgrade: webencodings in d:\\anaconda3\\lib\\site-packages (from html5lib>=0.999->astroquery>=0.3.9->poliastro) (0.5.1)\n",
      "Requirement already satisfied, skipping upgrade: pywin32-ctypes!=0.1.0,!=0.1.1; sys_platform == \"win32\" in d:\\anaconda3\\lib\\site-packages (from keyring>=4.0->astroquery>=0.3.9->poliastro) (0.2.0)\n",
      "Requirement already satisfied, skipping upgrade: soupsieve>1.2; python_version >= \"3.0\" in d:\\anaconda3\\lib\\site-packages (from beautifulsoup4>=4.3.2->astroquery>=0.3.9->poliastro) (2.0.1)\n"
     ]
    }
   ],
   "source": [
    "# Обновление полиастро\n",
    "\n",
    "pip install -U poliastro"
   ]
  },
  {
   "cell_type": "code",
   "execution_count": null,
   "metadata": {},
   "outputs": [],
   "source": []
  }
 ],
 "metadata": {
  "kernelspec": {
   "display_name": "Python 3",
   "language": "python",
   "name": "python3"
  },
  "language_info": {
   "codemirror_mode": {
    "name": "ipython",
    "version": 3
   },
   "file_extension": ".py",
   "mimetype": "text/x-python",
   "name": "python",
   "nbconvert_exporter": "python",
   "pygments_lexer": "ipython3",
   "version": "3.8.5"
  }
 },
 "nbformat": 4,
 "nbformat_minor": 4
}
