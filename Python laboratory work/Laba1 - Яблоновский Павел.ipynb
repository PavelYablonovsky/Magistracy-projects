{
 "cells": [
  {
   "cell_type": "markdown",
   "metadata": {},
   "source": [
    "# Лабораторная работа 1: Базовый синтаксис языка Python 3."
   ]
  },
  {
   "cell_type": "markdown",
   "metadata": {},
   "source": [
    "# Справочная информация:"
   ]
  },
  {
   "cell_type": "markdown",
   "metadata": {},
   "source": [
    "# 1. Типы данных"
   ]
  },
  {
   "cell_type": "markdown",
   "metadata": {},
   "source": [
    "Основными типами данных в любом языке программирования являются:\n",
    "\n",
    "целые числа, вещественные числа, строки (символы), логические переменные (True (истина) или False (ложь)).\n",
    "\n",
    "Они могут быть записаны следующим образом"
   ]
  },
  {
   "cell_type": "code",
   "execution_count": 5,
   "metadata": {
    "scrolled": true
   },
   "outputs": [
    {
     "data": {
      "text/plain": [
       "(1, 1.0, '1', True)"
      ]
     },
     "execution_count": 5,
     "metadata": {},
     "output_type": "execute_result"
    }
   ],
   "source": [
    "1, 1.0, '1', 1<2"
   ]
  },
  {
   "cell_type": "markdown",
   "metadata": {},
   "source": [
    "Функцией type возвращает тип аргумента: "
   ]
  },
  {
   "cell_type": "code",
   "execution_count": 4,
   "metadata": {
    "scrolled": true
   },
   "outputs": [
    {
     "data": {
      "text/plain": [
       "(int, float, str, bool)"
      ]
     },
     "execution_count": 4,
     "metadata": {},
     "output_type": "execute_result"
    }
   ],
   "source": [
    "type(1), type(1.0), type('1'), type(1<2)"
   ]
  },
  {
   "cell_type": "markdown",
   "metadata": {},
   "source": [
    "# 1.2 Операции с числами: $A+B$, $A-B$, $A*B$, $A/B$, $A^B$"
   ]
  },
  {
   "cell_type": "code",
   "execution_count": 6,
   "metadata": {},
   "outputs": [
    {
     "name": "stdout",
     "output_type": "stream",
     "text": [
      " A + B =  3\n",
      " A - B =  -1\n",
      " A * B =  2\n",
      " A / B =  0.5\n",
      " A ^ B =  1\n"
     ]
    }
   ],
   "source": [
    "# комментарий: с целыми числами\n",
    "A=1 \n",
    "B=2\n",
    "print (' A + B = ',A+B) # сумма\n",
    "print (' A - B = ',A-B) # разность;\n",
    "print (' A * B = ',A*B) # произведение;\n",
    "print (' A / B = ',A/B) # частное;\n",
    "print (' A ^ B = ',A**B) # возведение в степень."
   ]
  },
  {
   "cell_type": "code",
   "execution_count": 7,
   "metadata": {},
   "outputs": [
    {
     "name": "stdout",
     "output_type": "stream",
     "text": [
      "3.0\n",
      " A - B  =  -1.0\n",
      " A * B  =  2.0\n",
      " A / B  =  0.5\n",
      " A % B  =  1.0\n",
      " A // B =  0.0\n",
      " A ^ B  =  1.0\n"
     ]
    }
   ],
   "source": [
    "# комментарий: с вещественными числами\n",
    "A=1.0 \n",
    "B=2.0\n",
    "print (A+B)  # сумма\n",
    "print (' A - B  = ',A-B)  # разность;\n",
    "print (' A * B  = ',A*B)  # произведение;\n",
    "print (' A / B  = ',A/B)  # частное;\n",
    "print (' A % B  = ',A%B)  # остаток от деления;\n",
    "print (' A // B = ',A//B) # деление без остатка;\n",
    "print (' A ^ B  = ',A**B) # возведение в степень."
   ]
  },
  {
   "cell_type": "code",
   "execution_count": 8,
   "metadata": {},
   "outputs": [
    {
     "name": "stdout",
     "output_type": "stream",
     "text": [
      " A / B =  0.5 <class 'float'>\n",
      " A / B =  0 <class 'int'>\n"
     ]
    }
   ],
   "source": [
    "# комментарий: ещё о целых числах - без автоматического переопределения типа было бы так\n",
    "A=1\n",
    "B=2\n",
    "print (' A / B = ',A/B, type(A/B)) # автоматическое переопределение;\n",
    "print (' A / B = ',(int)(A/B), type((int)(A/B))) # без автоматического переопределения;"
   ]
  },
  {
   "cell_type": "markdown",
   "metadata": {},
   "source": [
    "# 1.2 Операции над строками"
   ]
  },
  {
   "cell_type": "code",
   "execution_count": 11,
   "metadata": {
    "scrolled": true
   },
   "outputs": [
    {
     "name": "stdout",
     "output_type": "stream",
     "text": [
      " Ast + Bst =   я люблю и информатику \n",
      "(Ast + Bst) * n =   я люблю  информатику  я люблю  информатику  я люблю  информатику \n"
     ]
    }
   ],
   "source": [
    "Ast=' я люблю ' \n",
    "Bst=' информатику '\n",
    "n=3\n",
    "print (' Ast + Bst = ',Ast+'и'+Bst)  # конкатенация \n",
    "print ('(Ast + Bst) * n = ',(Ast+Bst)*n)  # повторение n раз"
   ]
  },
  {
   "cell_type": "markdown",
   "metadata": {},
   "source": [
    "# 1.3 Логические операции"
   ]
  },
  {
   "cell_type": "code",
   "execution_count": 23,
   "metadata": {},
   "outputs": [
    {
     "name": "stdout",
     "output_type": "stream",
     "text": [
      " A >  B  ?  False\n",
      " A <  B  ?  True\n",
      " A >= B  ?  False\n",
      " A <= B  ?  True\n",
      " A == B  ?  False\n",
      " A != B ?  True\n",
      " A < B < A+B ?  True\n",
      " A < B и B < A+B  ?  True\n",
      " A < B или A > B  ?  True\n",
      "\n",
      " True False False True\n",
      "\n",
      " True \t False\n"
     ]
    }
   ],
   "source": [
    "A=1.0 \n",
    "B=2.0\n",
    "print (' A >  B  ? ',A>B)   # больше\n",
    "print (' A <  B  ? ',A<B)   # меньша\n",
    "print (' A >= B  ? ',A>=B)  # больше или равно\n",
    "print (' A <= B  ? ',A<=B)  # меньше или равно\n",
    "print (' A == B  ? ',A==B)  # равно\n",
    "print (' A != B ? ',A!=B)   # не равно\n",
    "print (' A < B < A+B ? ',A<B<A+B) # из интервала\n",
    "print (' A < B и B < A+B  ? ',A<B and B<A+B) # и (*)\n",
    "print (' A < B или A > B  ? ',A<B or A>B) # или (+)\n",
    "\n",
    "print ('\\n', A<B , A>B, A<B * A>B, A<B + A>B)  # \\n - знак перехода на строку\n",
    "\n",
    "print ('\\n',bool(1), '\\t', bool(0))  # \\t - знак табуляции"
   ]
  },
  {
   "cell_type": "markdown",
   "metadata": {},
   "source": [
    "# 2 Основные инструкции"
   ]
  },
  {
   "cell_type": "markdown",
   "metadata": {},
   "source": [
    "# 2.1 Операции ввода/вывода"
   ]
  },
  {
   "cell_type": "markdown",
   "metadata": {},
   "source": [
    "Форматный вывод (это красиво): \n",
    "\n",
    "% - указатель на вставку (оператор), тип: i - int, f - float, s - str, e - \"научное\" представление, g - \"компактное\" представление десятичного числа\n",
    "Строки в Python содержат уникальную встроенную возможность, доступ к которой можно получить через оператор %\n",
    "\n",
    "Числа после знака %:\n",
    "1е число - ширина поля (сколько знаков отступа необходимо оставить перед нашим числом),\n",
    "2е число - количество знаков после запятой, если требуется. Тогда оно отделяется от второго числа точкой.\n",
    "Далее необходимо закрыть кавычку.\n",
    "\n",
    "Например: %s' - это функция обозначающая переход в режим str (строка).\n",
    "\n",
    "После кавычки необходимо снова поставить знак %, чтобы программа определила, что имеет дело именно с оператором."
   ]
  },
  {
   "cell_type": "code",
   "execution_count": 20,
   "metadata": {},
   "outputs": [
    {
     "name": "stdout",
     "output_type": "stream",
     "text": [
      " A / B = 0.50\n"
     ]
    }
   ],
   "source": [
    "A=1 \n",
    "B=2\n",
    "print(\" A / B = %.2f\"% (A/B))"
   ]
  },
  {
   "cell_type": "markdown",
   "metadata": {},
   "source": [
    "В интерактивной сессии (или в программе, запущенной с командной строки) можно попросить пользователя что-нибудь ввести. Аргумент функции input - это приглашение для ввода. Можно использовать просто input(), тогда приглашения не будет. Но это неудобно, т.к. в этом случае трудно заметить, что программа чего-то ждёт."
   ]
  },
  {
   "cell_type": "code",
   "execution_count": 21,
   "metadata": {},
   "outputs": [
    {
     "name": "stdout",
     "output_type": "stream",
     "text": [
      "Введите число 5\n",
      "s =  5 <class 'str'>\n",
      "sf =  5.0 <class 'float'>\n"
     ]
    }
   ],
   "source": [
    "s=input('Введите число ')\n",
    "print('s = ', s, type(s))\n",
    "sf=float(s)\n",
    "print('sf = ', sf, type(sf))"
   ]
  },
  {
   "cell_type": "markdown",
   "metadata": {},
   "source": [
    "# 2.2 Ветвление (или условная инструкция)"
   ]
  },
  {
   "cell_type": "raw",
   "metadata": {},
   "source": [
    "Синтаксис:\n",
    "\n",
    "if Условие1:\n",
    "    Блок_инструкций_1 (выполняется если условие1 выполнено)\n",
    "elif Условие2:\n",
    "    Блок_инструкций_2 (выполняется если условие2 выполнено)    \n",
    "else:\n",
    "    Блок_инструкций_3 (выполняется если условия не выполнены)\n",
    "   \n",
    "или болеее компатно:   \n",
    "   \n",
    "A = инструкция1(выполняется когда верно условие) if условие else инструкция2"
   ]
  },
  {
   "cell_type": "markdown",
   "metadata": {},
   "source": [
    "# 2.3 Цикл"
   ]
  },
  {
   "cell_type": "raw",
   "metadata": {},
   "source": [
    "Цикл while («пока») позволяет выполнить одну и ту же последовательность действий, пока проверяемое условие истинно. Условие записывается до тела цикла и проверяется до выполнения тела цикла. Как правило, цикл while используется, когда невозможно определить точное значение количества проходов исполнения цикла.\n",
    "\n",
    "Синтаксис цикла while:\n",
    "\n",
    "while Условие:\n",
    "    Блок_инструкций"
   ]
  },
  {
   "cell_type": "raw",
   "metadata": {},
   "source": [
    "Цикл for\n",
    "\n",
    "Синтаксис:\n",
    "\n",
    "for i in range(10):      #   for i in range(от, до, шаг):\n",
    "    Блок_инструкций\n",
    "    \n",
    "эквивалентно:\n",
    "\n",
    "i = 0\n",
    "while i < 10:\n",
    "    Блок_инструкций\n",
    "    i += 1"
   ]
  },
  {
   "cell_type": "markdown",
   "metadata": {},
   "source": [
    "# 2.4 Обработка ошибок"
   ]
  },
  {
   "cell_type": "raw",
   "metadata": {},
   "source": [
    "try:\n",
    "    Блок_инструкций_1\n",
    "except:\n",
    "    Блок_инструкций_2 (выполняется в случае ошибки в Блок_инструкций_1)"
   ]
  },
  {
   "cell_type": "markdown",
   "metadata": {},
   "source": [
    "# 3 Функции"
   ]
  },
  {
   "cell_type": "markdown",
   "metadata": {},
   "source": [
    "Простейшая в мире функция: не имеет параметров, ничего не делает и ничего не возвращает. Оператор pass означает \"ничего не делай\"; он используется там, где синтаксически необходим оператор, а делать ничено не нужно (после if или elif, после def и т.д.)."
   ]
  },
  {
   "cell_type": "code",
   "execution_count": 25,
   "metadata": {},
   "outputs": [],
   "source": [
    "def fun0():\n",
    "    pass"
   ]
  },
  {
   "cell_type": "markdown",
   "metadata": {},
   "source": [
    "# Ваша первая программа на Python"
   ]
  },
  {
   "cell_type": "markdown",
   "metadata": {},
   "source": [
    "Традиционно первой программой при начале изучения того или иного языка программирования является программа, результатом работы которой является вывод на экран или иное устройство фразы «Hello, world!»\n",
    "\n",
    "Её можно считать тестом для демонстрации работы системы перед переходом к более сложным вещам и объявлением сообществу (миру) о вашем появлении.\n",
    "\n",
    "На разных языках программирования такая программа будет занимать разное колличество строк. В нашем случае достаточно написать:\n",
    "\n",
    "print(\"Hello, world!\")\n",
    "\n",
    "Напишите здесь вашу первую программу на Python:"
   ]
  },
  {
   "cell_type": "code",
   "execution_count": 1,
   "metadata": {},
   "outputs": [
    {
     "name": "stdout",
     "output_type": "stream",
     "text": [
      "Hello, world!\n"
     ]
    }
   ],
   "source": [
    "print(\"Hello, world!\")"
   ]
  },
  {
   "cell_type": "markdown",
   "metadata": {},
   "source": [
    "# Пример 1. \"Метание мяча\""
   ]
  },
  {
   "cell_type": "markdown",
   "metadata": {},
   "source": [
    "Рассмотрим пример иллюстрирующий математическую модель описывающий траекторию полета мяча в воздухе. Из второго закона Ньютона, предполагая отсутствие сопротивления воздуха, мы можем вывести зависимость вертикального положения мяча от времени $t$:\n",
    "\n",
    "\n",
    "$$y(t)=v_0t−\\frac{1}{2}gt^2$$\n",
    "\n",
    "\n",
    "где $v_0$ — начальная скорость, $g$ — ускорение свободного падения, значение которого положим равным 9.80665 $м/c^2$.\n",
    "\n",
    "(Обратите внимание какие красивые формулы! Текстовые ячейки Jupiter поддерживают набор формул в синтаксесе вёрстки LaTeX, наиболее популярный набор макрорасширений (или макропакет) системы компьютерной вёрстки TeX.)"
   ]
  },
  {
   "cell_type": "markdown",
   "metadata": {},
   "source": [
    "# Код (сценарий):"
   ]
  },
  {
   "cell_type": "markdown",
   "metadata": {},
   "source": [
    "Рассмотрим сценарий на Python для вычисления по этой простой формуле"
   ]
  },
  {
   "cell_type": "code",
   "execution_count": 22,
   "metadata": {},
   "outputs": [
    {
     "name": "stdout",
     "output_type": "stream",
     "text": [
      "1.234803\n"
     ]
    }
   ],
   "source": [
    "# Программа для вычисления положения мяча при вертикальном движении\n",
    " \n",
    "v0 = 5       # Начальная скорость\n",
    "g = 9.80665  # Ускорение свободного падения\n",
    "t = 0.6      # Время\n",
    "\n",
    "y = v0*t - 1/2*g*t**2\n",
    "\n",
    "print (y)"
   ]
  },
  {
   "cell_type": "markdown",
   "metadata": {},
   "source": [
    "# Разбор кода (сценария):"
   ]
  },
  {
   "cell_type": "markdown",
   "metadata": {},
   "source": [
    "Сценарий на языке Python — это текст ( в нашем случае эта программа написана еще и в файле ball.py, прилолженном к письму староста. Его можно запустить в редакторе Spyder), содержащий некоторые инструкции. Мы можем читать сценарий и понимать, что программа способна делать, но сам сценарий не выполняет никаких действий на компьютере, пока интерпретатор Python не прочитает текст сценария и не преобразует его в некоторые действия.\n",
    "\n",
    "Когда сценарий запущен в интерпретаторе Python, он разбирается и выполняется построчно. \n",
    "\n",
    "\n",
    "То, что Вам далее предлагается к рассмотрению, является комментарием: \n"
   ]
  },
  {
   "cell_type": "code",
   "execution_count": 3,
   "metadata": {},
   "outputs": [],
   "source": [
    "# Программа для вычисления положения мяча при вертикальном движении"
   ]
  },
  {
   "cell_type": "markdown",
   "metadata": {},
   "source": [
    "Следующая строка, интерпретируемая Pyhton:"
   ]
  },
  {
   "cell_type": "code",
   "execution_count": 4,
   "metadata": {},
   "outputs": [],
   "source": [
    "v0 = 5       # Начальная скорость"
   ]
  },
  {
   "cell_type": "markdown",
   "metadata": {},
   "source": [
    "В Python выражения вида v0 = 5 известны как оператции присваивания (с оператором \"=\"). Значение правой части, в нашем случае целое число 5, становится объектом, а имя переменной слева — именованной ссылкой на этот объект. Всякий раз, когда мы напишем v0, Python заменит ее целым значением 5. Выражение v1 = v0 создаст новое имя для того же объекта со значением 5, а не скопирует объект. \n",
    "\n",
    "Следующие две строки"
   ]
  },
  {
   "cell_type": "code",
   "execution_count": 5,
   "metadata": {},
   "outputs": [],
   "source": [
    "g = 9.80665  # Ускорение свободного падения\n",
    "t = 0.6      # Время"
   ]
  },
  {
   "cell_type": "markdown",
   "metadata": {},
   "source": [
    "имеют тот же смысл, что и предыдушая. Таким образом, прочитав эти строки интерпретатор Python знает три переменных v0, g, t и их значения. Эти переменные используются интерпретатором в следующей строке, реализующей некоторую формулу"
   ]
  },
  {
   "cell_type": "code",
   "execution_count": 6,
   "metadata": {},
   "outputs": [],
   "source": [
    "y = v0*t - 1/2*g*t**2"
   ]
  },
  {
   "cell_type": "markdown",
   "metadata": {},
   "source": [
    "В этой строке Python интерпретирует * как оператор умножения, - — вычитания, ** — возведения в степень (как и ^). Естественно, + и \\ интерпретируются как операторы сложения и деления соответственно. В результате вычисляется значение по формуле в правой части выражения, которое присваивается переменной с именем y. \n",
    "\n",
    "Последняя строка сценария"
   ]
  },
  {
   "cell_type": "code",
   "execution_count": 7,
   "metadata": {},
   "outputs": [
    {
     "name": "stdout",
     "output_type": "stream",
     "text": [
      "1.234803\n"
     ]
    }
   ],
   "source": [
    "print (y)\n",
    "del v0, g, t, y"
   ]
  },
  {
   "cell_type": "markdown",
   "metadata": {},
   "source": [
    "выводит на печать значение переменной y. Таким образом при запуске сценария будет выведено число 1.234803. В тексте сценария имеются также и пустые строки, которые пропускаются интерпретатором Python. Они добавлены для лучшей читабельности кода."
   ]
  },
  {
   "cell_type": "markdown",
   "metadata": {},
   "source": [
    "# Упражнение 1. Сообщения об ошибках"
   ]
  },
  {
   "cell_type": "markdown",
   "metadata": {},
   "source": [
    "Здесь предлагается ввести ошибки в сценарий. Для каждой введенной ошибки запустите сценарий. Напишите комментарий в тексте программы о том, как Python реагировал на соответствующую ошибку. После каждой ошибки поправьте сценарий так, чтобы он работал и переходите к следующей."
   ]
  },
  {
   "cell_type": "markdown",
   "metadata": {},
   "source": [
    "1. Вставьте слово Привет в пустой строке перед определением переменной v0.\n",
    "\n",
    "2. Удалите знак # перед комментарием Начальная скорость\n",
    "\n",
    "3. Удалите знак = в задании переменной v0\n",
    "\n",
    "4. Замените слово print на pint\n",
    "\n",
    "5. Замените строку print y на print x\n",
    "\n",
    "6. Замените выражение g = 9.80665 и t = 0.1 на g: int = 9.80665 и t: int = 0.1, а потом на g = int(9.80665) и t = int(0.1)\n"
   ]
  },
  {
   "cell_type": "markdown",
   "metadata": {},
   "source": [
    "Это программа в которой предлагается вносить ошибки и записывать результат:"
   ]
  },
  {
   "cell_type": "code",
   "execution_count": 36,
   "metadata": {},
   "outputs": [
    {
     "name": "stdout",
     "output_type": "stream",
     "text": [
      "0.45096674999999997\n"
     ]
    }
   ],
   "source": [
    "# Программа для вычисления положения мяча при вертикальном движении\n",
    "\n",
    "v0 = 5       #Начальная скорость (м/с)\n",
    "g = 9.80665  # Ускорение свободного падения (м/с^2)\n",
    "t = 0.1      # Время (с)\n",
    "\n",
    "y = v0*t - 1/2*g*t**2 # (м)\n",
    "\n",
    "print (y)"
   ]
  },
  {
   "cell_type": "markdown",
   "metadata": {},
   "source": [
    "# Упражнение 2. Форматный вывод результата"
   ]
  },
  {
   "cell_type": "raw",
   "metadata": {},
   "source": [
    "Реализовать в программе форматный вывод в следующем виде (с учетом выравнивания столбцов):\n",
    "\n",
    "Исходный данные: \n",
    "Начальная скорость            (число с 5 значащами числами в научном формате) $м/с$\n",
    "Ускорение свободного падения  (число с 5 значащами числами в научном формате) $м/с^2$\n",
    "Время                         (число с 5 значащами числами в научном формате) $c$\n",
    "\n",
    "Выходные данные:             \n",
    "Текущая высота положения мяча (число с 5 значащами числами в научном формате) $м$"
   ]
  },
  {
   "cell_type": "code",
   "execution_count": 2,
   "metadata": {},
   "outputs": [
    {
     "name": "stdout",
     "output_type": "stream",
     "text": [
      "исходные данные:\n",
      "начальная скорость             5.00000e+00 (м/c)\n",
      "ускорение свободного падения   9.80665e+00 (м/c^2)\n",
      "время                          1.00000e-01 (c)\n",
      "\n",
      "выходные данные:\n",
      "текущая высота положения мяча  4.50967e-01 (m)\n"
     ]
    }
   ],
   "source": [
    "# Программа для вычисления положения мяча при вертикальном движении\n",
    "\n",
    "v0 = 5       #Начальная скорость (м/с)\n",
    "g = 9.80665  # Ускорение свободного падения (м/с^2)\n",
    "t = 0.1      # Время (с)\n",
    "\n",
    "y = v0*t - 1/2*g*t**2 # (м)\n",
    "\n",
    "print ('исходные данные:')\n",
    "print(\"начальная скорость             %.5e (м/c)\" %v0)\n",
    "print(\"ускорение свободного падения   %.5e (м/c^2)\" % g)\n",
    "print(\"время                          %.5e (c)\\n\" % t)\n",
    "print ('выходные данные:' )\n",
    "print('текущая высота положения мяча  %.5e (m)' %y)"
   ]
  },
  {
   "cell_type": "markdown",
   "metadata": {},
   "source": [
    "# Упражнение 3. Интерактивное общение с пользователем"
   ]
  },
  {
   "cell_type": "markdown",
   "metadata": {},
   "source": [
    "Реализовать в программе запрос исходных данных (хотя бы одной) с помощью интерактивной сессии функцией input()."
   ]
  },
  {
   "cell_type": "code",
   "execution_count": 5,
   "metadata": {},
   "outputs": [
    {
     "name": "stdout",
     "output_type": "stream",
     "text": [
      "введите начальную скорость 6\n",
      "исходные данные:\n",
      "начальная скорость             6.00000e+00 (м/c)\n",
      "ускорение свободного падения   9.80665e+00 (м/c^2)\n",
      "время                          1.00000e-01 (c)\n",
      "\n",
      "выходные данные:\n",
      "текущая высота положения мяча  5.50967e-01 (m)\n"
     ]
    }
   ],
   "source": [
    "# Программа для вычисления положения мяча при вертикальном движении\n",
    "\n",
    "v0 = input('введите начальную скорость ')       #Начальная скорость (м/с)\n",
    "v=float(v0)\n",
    "g = 9.80665  # Ускорение свободного падения (м/с^2)\n",
    "t = 0.1      # Время (с)\n",
    "\n",
    "y = v*t - 1/2*g*t**2 # (м)\n",
    "\n",
    "print ('исходные данные:')\n",
    "print(\"начальная скорость             %.5e (м/c)\" %v)\n",
    "print(\"ускорение свободного падения   %.5e (м/c^2)\" % g)\n",
    "print(\"время                          %.5e (c)\\n\" % t)\n",
    "print ('выходные данные:' )\n",
    "print('текущая высота положения мяча  %.5e (m)' %y)"
   ]
  },
  {
   "cell_type": "markdown",
   "metadata": {},
   "source": [
    "# Упражнение 4. Проверка корректности исходных данных"
   ]
  },
  {
   "cell_type": "markdown",
   "metadata": {},
   "source": [
    "Заметим, что в рассматриваемой задаче ось $y$ выбрана так, что мячик в начальный момент времени ($t = 0$) находится в точке с координатой $y = 0$. Чтобы посмотреть сколько времени займет у мячика вернуться в эту же координату ($y = 0$), надо рассмотреть следующее выражение:\n",
    "\n",
    "$$v_0t−\\frac{1}{2}gt^2 = t \\left( v_0−\\frac{1}{2}gt \\right) = 0$$\n",
    "\n",
    "Последнее возможно только если $$t = 0$$ или $$t = \\frac{2v_0}{g}.$$\n",
    "\n",
    "Таким образом возможное время полета мяча ограничено интервалом\n",
    "\n",
    "$$0 \\leqslant t \\leqslant \\frac{2v_0}{g}.$$"
   ]
  },
  {
   "cell_type": "markdown",
   "metadata": {},
   "source": [
    "Добавить в программу проверку корректности вводимых пользователем переменных, исходя из условий: начальная скорость и ускорение свободного падения не отрицальны, диапазон возможного времени определяется полученным выше условием."
   ]
  },
  {
   "cell_type": "code",
   "execution_count": 24,
   "metadata": {},
   "outputs": [
    {
     "name": "stdin",
     "output_type": "stream",
     "text": [
      "введите начальное время  0.5\n"
     ]
    },
    {
     "name": "stdout",
     "output_type": "stream",
     "text": [
      "исходные данные:\n",
      "начальная скорость (м/c)              2.00000e+00\n",
      "ускорение свободного падения (м/c^2)  9.80665e+00\n",
      "время (c)                             5.00000e-01\n",
      "\n",
      "выходные данные:\n",
      "текущая высота положения мяча (m)     1.27417e+00\n"
     ]
    }
   ],
   "source": [
    "v0 = 5       #Начальная скорость (м/с)\n",
    "g = 9.80665  # Ускорение свободного падения (м/с^2)\n",
    "s = input('введите начальное время ') # Время (с)\n",
    "t = float (s) \n",
    "\n",
    "if 0<t<2*v0/g:\n",
    "    y = v0*t - 1/2*g*t**2 # (м)\n",
    "    print ('исходные данные:')\n",
    "    print(\"начальная скорость (м/c)              %.5e\" %v)\n",
    "    print(\"ускорение свободного падения (м/c^2)  %.5e\" % g)\n",
    "    print(\"время (c)                             %.5e\\n\" % t)\n",
    "    print ('выходные данные:' )\n",
    "    print('текущая высота положения мяча (m)     %.5e' %y)\n",
    "else: \n",
    "    print ('Ошибка в задании времени')    "
   ]
  },
  {
   "cell_type": "markdown",
   "metadata": {},
   "source": [
    "# Домашнее задание (базовое):"
   ]
  },
  {
   "cell_type": "markdown",
   "metadata": {},
   "source": [
    "# Задание 1. Обновление переменных в программной оболочке Python"
   ]
  },
  {
   "cell_type": "markdown",
   "metadata": {},
   "source": [
    "Написать программу реализующую следующие действия:\n",
    "\n",
    "1. Инициализировать переменную x значением 2\n",
    "2. Прибавить 3 к x и присвоить это значение x\n",
    "3. Вычислить (x+1)/2 и присвоить это значение x\n",
    "4. Вычислить x+1/2 и присвоить это значение x \n",
    "5. Присвоить x значение значение выражения x<5 \n",
    "6. Изменить тип x в символьный и присвоить результат переменной x\n",
    "\n",
    "После каждой операции выводить значение переменной x и её тип."
   ]
  },
  {
   "cell_type": "code",
   "execution_count": 22,
   "metadata": {},
   "outputs": [
    {
     "name": "stdout",
     "output_type": "stream",
     "text": [
      "#1 2.0 <class 'int'>\n",
      "#2 5.0 <class 'int'>\n",
      "#3 3.0 <class 'float'>\n",
      "#4 3.5 <class 'float'>\n",
      "#5 1.0 <class 'bool'>\n",
      "#6 T <class 'str'>\n"
     ]
    }
   ],
   "source": [
    "x=2\n",
    "print('#1 %.1f' %x,type(x)) \n",
    "x+=3 \n",
    "print('#2 %.1f' %x,type(x)) \n",
    "x=(x+1)/2\n",
    "print('#3 %.1f' %x,type(x)) \n",
    "x+=1/2\n",
    "print('#4 %.1f' %x,type(x)) \n",
    "x=x<5\n",
    "print('#5 %.1f' %x,type(x)) \n",
    "x=str(x)\n",
    "print('#6 %.1s' %x,type(x)) "
   ]
  },
  {
   "cell_type": "markdown",
   "metadata": {},
   "source": [
    "# Задание 2. Среднее значение целых чисел"
   ]
  },
  {
   "cell_type": "markdown",
   "metadata": {},
   "source": [
    "Написать программу (сценарий), сохраняющую сумму 1+2+3+4+5 в одну переменную, затем создающую другую переменную, содержащую среднее значение этих пяти чисел. Вывести фразу \"Среднее значение этих 5 чисел равно\" и результат работы с точностью до 5 знака после точки (т.е. до 1/100000)."
   ]
  },
  {
   "cell_type": "code",
   "execution_count": 23,
   "metadata": {},
   "outputs": [
    {
     "name": "stdout",
     "output_type": "stream",
     "text": [
      "Среднее значение этих 5 чисел равно 3.00000\n"
     ]
    }
   ],
   "source": [
    "x=1+2+3+4+5\n",
    "y=x/5\n",
    "print( \"Среднее значение этих 5 чисел равно %.5f\" %y)"
   ]
  },
  {
   "cell_type": "markdown",
   "metadata": {},
   "source": [
    "# Задание 3. Интерактивное вычисление среднего"
   ]
  },
  {
   "cell_type": "markdown",
   "metadata": {},
   "source": [
    "Добавьте в программу из предыдущего задания запрос на добавление ещё одного числа к подсчёту среднего с помощью запуска интерактивной сессии функцией input(). После введения каждого нового числа пересчитывать и выводить результат в формате: \"Среднее значение этих чисел равно\" и результат работы с точностью до 5 знака после точки (т.е. до 1/100000). Интерактивная сессия заканчивается после введения пользователем 0."
   ]
  },
  {
   "cell_type": "code",
   "execution_count": 1,
   "metadata": {},
   "outputs": [
    {
     "name": "stdout",
     "output_type": "stream",
     "text": [
      "Введите дополнительное число6\n",
      "Сумма чисел 21.0\n",
      "Результат 3.50000\n",
      "Введите дополнительное число\n",
      "6\n",
      "Сумма чисел 27.0\n",
      "Результат 3.85714\n",
      "Введите дополнительное число\n",
      "7\n",
      "Сумма чисел 34.0\n",
      "Результат 4.25000\n",
      "Введите дополнительное число\n",
      "8\n",
      "Сумма чисел 42.0\n",
      "Результат 4.66667\n",
      "Введите дополнительное число\n",
      "0\n",
      "Введен ноль\n"
     ]
    }
   ],
   "source": [
    "x = 1+2+3+4+5\n",
    "n = 5 \n",
    "y = x/n \n",
    "z = int (input('Введите дополнительное число'))\n",
    "while (z!=0):\n",
    "    x+=z\n",
    "    n+=1\n",
    "    y=x/n\n",
    "    print('Сумма чисел %.1f' %x)\n",
    "    print('Результат %.5f' %y)\n",
    "    z = int (input('Введите дополнительное число\\n'))\n",
    "if not z: \n",
    "    print('Введен ноль')\n"
   ]
  },
  {
   "cell_type": "markdown",
   "metadata": {},
   "source": [
    "# Домашнее задание (дополнительное):"
   ]
  },
  {
   "cell_type": "markdown",
   "metadata": {},
   "source": [
    "# Задание. \"О чём думает кот?\""
   ]
  },
  {
   "cell_type": "code",
   "execution_count": 30,
   "metadata": {
    "scrolled": true
   },
   "outputs": [
    {
     "data": {
      "image/jpeg": "[encoded data removed]",
      "text/plain": [
       "<IPython.core.display.Image object>"
      ]
     },
     "execution_count": 30,
     "metadata": {},
     "output_type": "execute_result"
    }
   ],
   "source": [
    "# Так можно добавлять картинки\n",
    "\n",
    "from IPython.display import Image # вызов из библиотеки определённой функции\n",
    "Image(\"picture.jpg\")              # вызов функции и передача ей в качестве аргумента пути к файлу \n",
    "\n",
    "# (в данном случае фаил находится в той же папке)"
   ]
  },
  {
   "cell_type": "markdown",
   "metadata": {},
   "source": [
    "Рассмотрим пример иллюстрирующий математическую модель и описывающий траекторию кошачьего прыжка. Из второго закона Ньютона, предполагая отсутствие сопротивления воздуха, мы можем вывести зависимость вертикального (y) и горизонтального (x) положения котика от времени $t$:\n",
    "\n",
    "$$x(t)=v_0cos(\\alpha)t$$\n",
    "$$y(t)=v_0sin(\\alpha)t−\\frac{1}{2}gt^2$$\n",
    "\n",
    "где $v_0$ — начальная скорость, $g$ — ускорение свободного падения, значение которого положим равным 9.80665 $м/c^2$, $tg(\\alpha) = y/x$."
   ]
  },
  {
   "cell_type": "markdown",
   "metadata": {},
   "source": [
    "Напишите программу которая сможет помочь котику понять следующие вещи:\n",
    "\n",
    "\n",
    "1) как далеко и высоко он сможет прыгнуть при начальной скорости 5 м/с и направлении прыжка $\\alpha = 40^{\\circ}$;\n",
    "\n",
    "2) каким должен быть начальный угол для максимальной дальности прыжка;\n",
    "\n",
    "3) каким должен быть начальный угол для максимальной высоты прыжка;\n",
    "\n",
    "4) каким должны быть угол и скорость для попадания в точку с координатами (2,3) м через 1 с;\n",
    "\n",
    "5) нарисуйте траекторию прыжка с помощью библиотеки matplotlib.\n"
   ]
  },
  {
   "cell_type": "code",
   "execution_count": 78,
   "metadata": {},
   "outputs": [
    {
     "name": "stdout",
     "output_type": "stream",
     "text": [
      "Время полета при заданных параметрах     0.65546 (c)\n",
      "Дальность полета при заданных параметрах 2.51056 (м)\n",
      "Высота полета при заданных параметрах    0.52665 (м)\n"
     ]
    }
   ],
   "source": [
    "#1\n",
    "\n",
    "import math\n",
    "\n",
    "toRad = math.pi/180\n",
    "v0 = 5\n",
    "g = 9.80665\n",
    "alpha = 40*toRad \n",
    "t = (2*v0*math.sin(alpha))/g\n",
    "\n",
    "LMax = (v0**2*math.sin(2*alpha))/g\n",
    "hMax = (v0**2*math.sin(alpha)**2)/(2*g) \n",
    "\n",
    "print( \"Время полета при заданных параметрах     %.5f (c)\" %t)\n",
    "print( \"Дальность полета при заданных параметрах %.5f (м)\" %LMax)\n",
    "print( \"Высота полета при заданных параметрах    %.5f (м)\" %hMax)"
   ]
  },
  {
   "cell_type": "code",
   "execution_count": 135,
   "metadata": {},
   "outputs": [
    {
     "name": "stdout",
     "output_type": "stream",
     "text": [
      "Дальность полета при заданных параметрах 2.54929 (м)\n",
      "Угол броска                              45.00000 (м)\n"
     ]
    }
   ],
   "source": [
    "#2 \n",
    "\n",
    "import math\n",
    "\n",
    "toRad = math.pi/180\n",
    "toDeg = 180/math.pi\n",
    "\n",
    "v0 = 5\n",
    "g = 9.80665\n",
    "alpha = 0 \n",
    "\n",
    "L=[(v0**2*math.sin(2*alpha))/g]\n",
    "\n",
    "for i in range(0,91,1):      \n",
    "    alpha = i*toRad\n",
    "    temp_L = (v0**2*math.sin(2*alpha))/g\n",
    "    if L[i]<temp_L:\n",
    "        j=i\n",
    "    L.append(temp_L)\n",
    "    \n",
    "print( \"Дальность полета при заданных параметрах %.5f (м)\" %max(L))\n",
    "print( \"Угол броска                              %.5f (м)\" %j)\n"
   ]
  },
  {
   "cell_type": "code",
   "execution_count": 137,
   "metadata": {},
   "outputs": [
    {
     "name": "stdout",
     "output_type": "stream",
     "text": [
      "Высота полета при заданных параметрах 1.27465 (м)\n",
      "Угол броска                           90.00000 (м)\n"
     ]
    }
   ],
   "source": [
    "#3 \n",
    "\n",
    "import math\n",
    "\n",
    "toRad = math.pi/180\n",
    "toDeg = 180/math.pi\n",
    "\n",
    "v0 = 5\n",
    "g = 9.80665\n",
    "alpha = 0 \n",
    "\n",
    "h=[(v0**2*math.sin(alpha)**2)/(2*g)]\n",
    "\n",
    "for i in range(0,91,1):      \n",
    "    alpha = i*toRad\n",
    "    temp_h = (v0**2*math.sin(alpha)**2)/(2*g) \n",
    "    if h[i]<temp_h:\n",
    "        j=i\n",
    "    h.append(temp_h)\n",
    "    \n",
    "print( \"Высота полета при заданных параметрах %.5f (м)\" %max(h))\n",
    "print( \"Угол броска                           %.5f (м)\" %j)"
   ]
  },
  {
   "cell_type": "code",
   "execution_count": 147,
   "metadata": {},
   "outputs": [
    {
     "name": "stdout",
     "output_type": "stream",
     "text": [
      "Угол для попадания в точку (2.3)     75.79897 (Deg)\n",
      "Скорость для попадания в точку (2.3) 8.15246 (км/c)\n"
     ]
    }
   ],
   "source": [
    "#4 \n",
    "\n",
    "#Получаем уравнение с двумя неизвестным \n",
    "#    2=v0*cos(alpha)\n",
    "#    3=V0*sin(alpha)-g/2 \n",
    "#    Решаем уравнение и получаем итоговую программу \n",
    "\n",
    "import math\n",
    "\n",
    "toRad = math.pi/180\n",
    "toDeg = 180/math.pi\n",
    "\n",
    "g = 9.80665\n",
    "\n",
    "alpha = math.atan((3+1/2*g)*(1/2))\n",
    "v0 = 2/math.cos(alpha)\n",
    "    \n",
    "print( \"Угол для попадания в точку (2.3)     %.5f (Deg)\" %(alpha*toDeg))\n",
    "print( \"Скорость для попадания в точку (2.3) %.5f (км/c)\" %v0)"
   ]
  },
  {
   "cell_type": "code",
   "execution_count": 17,
   "metadata": {},
   "outputs": [
    {
     "name": "stdout",
     "output_type": "stream",
     "text": [
      "Current version on matplotlib library is 3.2.2\n"
     ]
    },
    {
     "data": {
      "image/png": "[encoded data removed]",
      "text/plain": [
       "<Figure size 432x288 with 1 Axes>"
      ]
     },
     "metadata": {
      "needs_background": "light"
     },
     "output_type": "display_data"
    }
   ],
   "source": [
    "#5 \n",
    "\n",
    "import math\n",
    "import matplotlib as mpl\n",
    "import numpy as np\n",
    "import matplotlib.pyplot as plt\n",
    "\n",
    "\n",
    "# Вывод на экран текущей версии библиотеки matplotlib\n",
    "print ('Current version on matplotlib library is', mpl.__version__)\n",
    "\n",
    "toRad = math.pi/180\n",
    "\n",
    "v0 = 5\n",
    "g = 9.80665\n",
    "alpha = 45*toRad\n",
    "\n",
    "a=[]\n",
    "b=[]\n",
    "\n",
    "for x in np.arange (0.,(v0**2*math.sin(2*alpha))/g, 0.01):\n",
    "    y=x*math.tan(alpha) - g*x**2/2/v0**2/math.cos(alpha)**2  # из уравнения движения\n",
    "    a.append(x)\n",
    "    b.append(y)\n",
    "\n",
    "fig= plt.figure()\n",
    "axes=fig.add_subplot(111)\n",
    "axes.plot(a,b)\n",
    "axes.set_xlabel (\"L\")\n",
    "axes.set_ylabel (\"h\")\n",
    "plt.show()\n"
   ]
  },
  {
   "cell_type": "markdown",
   "metadata": {},
   "source": [
    "# Задание. \"Число и цифра\""
   ]
  },
  {
   "cell_type": "markdown",
   "metadata": {},
   "source": [
    "Запросите у пользователя целое число и сложите цифры этого числа. Повторяйте последнее действие столько раз, сколько сможете, и выводите каждый раз полученную сумму."
   ]
  },
  {
   "cell_type": "code",
   "execution_count": 62,
   "metadata": {
    "scrolled": true
   },
   "outputs": [
    {
     "name": "stdout",
     "output_type": "stream",
     "text": [
      "999999999999999999999999999999999999\n",
      "Сумма чисел 324\n",
      "Цикл будет продолжен\n",
      "Сумма чисел 9\n",
      "Цикл будет остановлен\n"
     ]
    }
   ],
   "source": [
    "chislo = input()\n",
    "\n",
    "N = len (chislo)\n",
    "a = 0\n",
    "flag = 1\n",
    "\n",
    "for i in range(0,N):\n",
    "    a += int(chislo[i])\n",
    "print (\"Сумма чисел %.d\" %a)\n",
    "\n",
    "while flag:\n",
    "    if a>1:\n",
    "        chislo = int (chislo)\n",
    "        chislo = a\n",
    "        a=0\n",
    "        chislo = str (chislo)\n",
    "        N = len (chislo)\n",
    "        for i in range(0,N):\n",
    "            a += int(chislo[i])\n",
    "        if N == 1:\n",
    "            flag = 0\n",
    "            print (\"Цикл будет остановлен\")\n",
    "        else:\n",
    "            print (\"Цикл будет продолжен\")\n",
    "            print (\"Сумма чисел %.d\" %a)"
   ]
  },
  {
   "cell_type": "markdown",
   "metadata": {},
   "source": [
    "# Задание. \"Максимум и минимум\""
   ]
  },
  {
   "cell_type": "markdown",
   "metadata": {},
   "source": [
    "## Запрашивайте у пользователя числа, определяйте максимальное и минимальное из всех полученных чисел и сообщайте их ему."
   ]
  },
  {
   "cell_type": "code",
   "execution_count": 106,
   "metadata": {},
   "outputs": [
    {
     "name": "stdout",
     "output_type": "stream",
     "text": [
      "Запращиваю у пользователя числа через пробел\n",
      "1 2 3 5 33 33.5\n",
      "Максимальное число из массива 33.5000\n",
      "Минимальное число из массива 1.00000\n"
     ]
    }
   ],
   "source": [
    "print(\"Запращиваю у пользователя числа через пробел\")\n",
    "A = list(map(float,input().split()))\n",
    "maxX = max(A)\n",
    "minN = min(A)\n",
    "print('Максимальное число из массива %.5f' %maxX) \n",
    "print('Минимальное число из массива %.5f' %minN) "
   ]
  },
  {
   "cell_type": "code",
   "execution_count": null,
   "metadata": {},
   "outputs": [],
   "source": []
  }
 ],
 "metadata": {
  "kernelspec": {
   "display_name": "Python 3",
   "language": "python",
   "name": "python3"
  },
  "language_info": {
   "codemirror_mode": {
    "name": "ipython",
    "version": 3
   },
   "file_extension": ".py",
   "mimetype": "text/x-python",
   "name": "python",
   "nbconvert_exporter": "python",
   "pygments_lexer": "ipython3",
   "version": "3.8.3"
  }
 },
 "nbformat": 4,
 "nbformat_minor": 4
}
